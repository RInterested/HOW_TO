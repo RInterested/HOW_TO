{
 "cells": [
  {
   "cell_type": "code",
   "execution_count": 1,
   "metadata": {
    "collapsed": true
   },
   "outputs": [],
   "source": [
    "d = read.table(text=\"          value time treat\n",
    "    1  8.788269    1     0\n",
    "    2  7.964719    6     0\n",
    "    3  8.204051   12     0\n",
    "    4  9.041368   24     0\n",
    "    5  8.181555   48     0\n",
    "    6  8.041419   96     0\n",
    "    7  7.992336  144     0\n",
    "    8  7.948658    1     1\n",
    "    9  8.090211    6     1\n",
    "    10 8.031459   12     1\n",
    "    11 8.118308   24     1\n",
    "    12 7.699051   48     1\n",
    "    13 7.537120   96     1\n",
    "    14 7.268570  144     1\", header=T)"
   ]
  },
  {
   "cell_type": "code",
   "execution_count": 2,
   "metadata": {
    "collapsed": false
   },
   "outputs": [
    {
     "data": {
      "text/html": [
       "<table>\n",
       "<thead><tr><th scope=col>value</th><th scope=col>time</th><th scope=col>treat</th></tr></thead>\n",
       "<tbody>\n",
       "\t<tr><td>8.788269</td><td>  1     </td><td>0       </td></tr>\n",
       "\t<tr><td>7.964719</td><td>  6     </td><td>0       </td></tr>\n",
       "\t<tr><td>8.204051</td><td> 12     </td><td>0       </td></tr>\n",
       "\t<tr><td>9.041368</td><td> 24     </td><td>0       </td></tr>\n",
       "\t<tr><td>8.181555</td><td> 48     </td><td>0       </td></tr>\n",
       "\t<tr><td>8.041419</td><td> 96     </td><td>0       </td></tr>\n",
       "\t<tr><td>7.992336</td><td>144     </td><td>0       </td></tr>\n",
       "\t<tr><td>7.948658</td><td>  1     </td><td>1       </td></tr>\n",
       "\t<tr><td>8.090211</td><td>  6     </td><td>1       </td></tr>\n",
       "\t<tr><td>8.031459</td><td> 12     </td><td>1       </td></tr>\n",
       "\t<tr><td>8.118308</td><td> 24     </td><td>1       </td></tr>\n",
       "\t<tr><td>7.699051</td><td> 48     </td><td>1       </td></tr>\n",
       "\t<tr><td>7.537120</td><td> 96     </td><td>1       </td></tr>\n",
       "\t<tr><td>7.268570</td><td>144     </td><td>1       </td></tr>\n",
       "</tbody>\n",
       "</table>\n"
      ],
      "text/latex": [
       "\\begin{tabular}{r|lll}\n",
       " value & time & treat\\\\\n",
       "\\hline\n",
       "\t 8.788269 &   1      & 0       \\\\\n",
       "\t 7.964719 &   6      & 0       \\\\\n",
       "\t 8.204051 &  12      & 0       \\\\\n",
       "\t 9.041368 &  24      & 0       \\\\\n",
       "\t 8.181555 &  48      & 0       \\\\\n",
       "\t 8.041419 &  96      & 0       \\\\\n",
       "\t 7.992336 & 144      & 0       \\\\\n",
       "\t 7.948658 &   1      & 1       \\\\\n",
       "\t 8.090211 &   6      & 1       \\\\\n",
       "\t 8.031459 &  12      & 1       \\\\\n",
       "\t 8.118308 &  24      & 1       \\\\\n",
       "\t 7.699051 &  48      & 1       \\\\\n",
       "\t 7.537120 &  96      & 1       \\\\\n",
       "\t 7.268570 & 144      & 1       \\\\\n",
       "\\end{tabular}\n"
      ],
      "text/plain": [
       "   value    time treat\n",
       "1  8.788269   1  0    \n",
       "2  7.964719   6  0    \n",
       "3  8.204051  12  0    \n",
       "4  9.041368  24  0    \n",
       "5  8.181555  48  0    \n",
       "6  8.041419  96  0    \n",
       "7  7.992336 144  0    \n",
       "8  7.948658   1  1    \n",
       "9  8.090211   6  1    \n",
       "10 8.031459  12  1    \n",
       "11 8.118308  24  1    \n",
       "12 7.699051  48  1    \n",
       "13 7.537120  96  1    \n",
       "14 7.268570 144  1    "
      ]
     },
     "metadata": {},
     "output_type": "display_data"
    }
   ],
   "source": [
    "d"
   ]
  },
  {
   "cell_type": "code",
   "execution_count": 4,
   "metadata": {
    "collapsed": false,
    "scrolled": true
   },
   "outputs": [
    {
     "data": {
      "text/plain": [
       "\n",
       "Call:\n",
       "lm(formula = value ~ time * treat, data = d)\n",
       "\n",
       "Residuals:\n",
       "     Min       1Q   Median       3Q      Max \n",
       "-0.50627 -0.12345  0.00296  0.04124  0.63785 \n",
       "\n",
       "Coefficients:\n",
       "             Estimate Std. Error t value Pr(>|t|)    \n",
       "(Intercept)  8.493476   0.156345  54.325 1.08e-13 ***\n",
       "time        -0.003748   0.002277  -1.646   0.1307    \n",
       "treat       -0.411271   0.221106  -1.860   0.0925 .  \n",
       "time:treat  -0.001938   0.003220  -0.602   0.5606    \n",
       "---\n",
       "Signif. codes:  0 '***' 0.001 '**' 0.01 '*' 0.05 '.' 0.1 ' ' 1\n",
       "\n",
       "Residual standard error: 0.3 on 10 degrees of freedom\n",
       "Multiple R-squared:  0.6526,\tAdjusted R-squared:  0.5484 \n",
       "F-statistic: 6.262 on 3 and 10 DF,  p-value: 0.01154\n"
      ]
     },
     "metadata": {},
     "output_type": "display_data"
    }
   ],
   "source": [
    "summary(lm(value~time*treat,data=d))"
   ]
  },
  {
   "cell_type": "code",
   "execution_count": 5,
   "metadata": {
    "collapsed": false
   },
   "outputs": [
    {
     "data": {
      "text/plain": [
       "            Df Sum Sq Mean Sq F value Pr(>F)  \n",
       "time         1 0.7726  0.7726   8.586 0.0150 *\n",
       "treat        1 0.8852  0.8852   9.837 0.0106 *\n",
       "time:treat   1 0.0326  0.0326   0.362 0.5606  \n",
       "Residuals   10 0.8998  0.0900                 \n",
       "---\n",
       "Signif. codes:  0 '***' 0.001 '**' 0.01 '*' 0.05 '.' 0.1 ' ' 1"
      ]
     },
     "metadata": {},
     "output_type": "display_data"
    }
   ],
   "source": [
    " summary(aov(value~time*treat,data=d))"
   ]
  },
  {
   "cell_type": "code",
   "execution_count": 36,
   "metadata": {
    "collapsed": false,
    "scrolled": true
   },
   "outputs": [
    {
     "data": {
      "image/png": "[encoded data removed]",
      "text/plain": [
       "Plot with title \"Playing with Jupyter\""
      ]
     },
     "metadata": {},
     "output_type": "display_data"
    }
   ],
   "source": [
    "options(repr.plot.width=4, repr.plot.height=3)\n",
    "par(tcl = -0.1)\n",
    "plot(value ~ time, d, pch = 19, col=rgb(.1,.1,.9,.7) , cex=.5, bg=rgb(.5,.2,.1,.3),\n",
    "    cex.lab=.7, cex.axis=.7, main = \"Playing with Jupyter\", cex.main = .8)"
   ]
  },
  {
   "cell_type": "code",
   "execution_count": 38,
   "metadata": {
    "collapsed": false,
    "scrolled": true
   },
   "outputs": [
    {
     "name": "stderr",
     "output_type": "stream",
     "text": [
      "also installing the dependencies 'DBI', 'BH'\n",
      "\n"
     ]
    },
    {
     "name": "stdout",
     "output_type": "stream",
     "text": [
      "package 'DBI' successfully unpacked and MD5 sums checked\n",
      "package 'BH' successfully unpacked and MD5 sums checked\n",
      "package 'dplyr' successfully unpacked and MD5 sums checked\n",
      "\n",
      "The downloaded binary packages are in\n",
      "\tC:\\Users\\vRad\\AppData\\Local\\Temp\\RtmpErSqgp\\downloaded_packages\n"
     ]
    },
    {
     "name": "stderr",
     "output_type": "stream",
     "text": [
      "Warning message:\n",
      "\"package 'dplyr' was built under R version 3.3.3\"\n",
      "Attaching package: 'dplyr'\n",
      "\n",
      "The following objects are masked from 'package:stats':\n",
      "\n",
      "    filter, lag\n",
      "\n",
      "The following objects are masked from 'package:base':\n",
      "\n",
      "    intersect, setdiff, setequal, union\n",
      "\n"
     ]
    }
   ],
   "source": [
    "install.packages('dplyr', repos='http://cran.us.r-project.org')\n",
    "library(dplyr)"
   ]
  },
  {
   "cell_type": "code",
   "execution_count": 40,
   "metadata": {
    "collapsed": false,
    "scrolled": true
   },
   "outputs": [
    {
     "data": {
      "text/html": [
       "<table>\n",
       "<thead><tr><th scope=col>Sepal.Length</th><th scope=col>Sepal.Width</th><th scope=col>Petal.Length</th><th scope=col>Petal.Width</th><th scope=col>Species</th></tr></thead>\n",
       "<tbody>\n",
       "\t<tr><td>5.1   </td><td>3.5   </td><td>1.4   </td><td>0.2   </td><td>setosa</td></tr>\n",
       "\t<tr><td>4.9   </td><td>3.0   </td><td>1.4   </td><td>0.2   </td><td>setosa</td></tr>\n",
       "\t<tr><td>4.7   </td><td>3.2   </td><td>1.3   </td><td>0.2   </td><td>setosa</td></tr>\n",
       "\t<tr><td>4.6   </td><td>3.1   </td><td>1.5   </td><td>0.2   </td><td>setosa</td></tr>\n",
       "\t<tr><td>5.0   </td><td>3.6   </td><td>1.4   </td><td>0.2   </td><td>setosa</td></tr>\n",
       "\t<tr><td>5.4   </td><td>3.9   </td><td>1.7   </td><td>0.4   </td><td>setosa</td></tr>\n",
       "</tbody>\n",
       "</table>\n"
      ],
      "text/latex": [
       "\\begin{tabular}{r|lllll}\n",
       " Sepal.Length & Sepal.Width & Petal.Length & Petal.Width & Species\\\\\n",
       "\\hline\n",
       "\t 5.1    & 3.5    & 1.4    & 0.2    & setosa\\\\\n",
       "\t 4.9    & 3.0    & 1.4    & 0.2    & setosa\\\\\n",
       "\t 4.7    & 3.2    & 1.3    & 0.2    & setosa\\\\\n",
       "\t 4.6    & 3.1    & 1.5    & 0.2    & setosa\\\\\n",
       "\t 5.0    & 3.6    & 1.4    & 0.2    & setosa\\\\\n",
       "\t 5.4    & 3.9    & 1.7    & 0.4    & setosa\\\\\n",
       "\\end{tabular}\n"
      ],
      "text/plain": [
       "  Sepal.Length Sepal.Width Petal.Length Petal.Width Species\n",
       "1 5.1          3.5         1.4          0.2         setosa \n",
       "2 4.9          3.0         1.4          0.2         setosa \n",
       "3 4.7          3.2         1.3          0.2         setosa \n",
       "4 4.6          3.1         1.5          0.2         setosa \n",
       "5 5.0          3.6         1.4          0.2         setosa \n",
       "6 5.4          3.9         1.7          0.4         setosa "
      ]
     },
     "metadata": {},
     "output_type": "display_data"
    }
   ],
   "source": [
    "head(iris)"
   ]
  },
  {
   "cell_type": "code",
   "execution_count": 41,
   "metadata": {
    "collapsed": false
   },
   "outputs": [
    {
     "data": {
      "image/png": "[encoded data removed]",
      "text/plain": [
       "plot without title"
      ]
     },
     "metadata": {},
     "output_type": "display_data"
    }
   ],
   "source": [
    "plot(iris)"
   ]
  },
  {
   "cell_type": "code",
   "execution_count": 42,
   "metadata": {
    "collapsed": false
   },
   "outputs": [
    {
     "data": {
      "text/plain": [
       "\n",
       "Call:  glm(formula = mtcars$cyl ~ mtcars$mpg, family = \"poisson\")\n",
       "\n",
       "Coefficients:\n",
       "(Intercept)   mtcars$mpg  \n",
       "    2.68570     -0.04461  \n",
       "\n",
       "Degrees of Freedom: 31 Total (i.e. Null);  30 Residual\n",
       "Null Deviance:\t    16.57 \n",
       "Residual Deviance: 4.282 \tAIC: 124.9"
      ]
     },
     "metadata": {},
     "output_type": "display_data"
    }
   ],
   "source": [
    "glm(mtcars$cyl ~ mtcars$mpg, family=\"poisson\")"
   ]
  }
 ],
 "metadata": {
  "kernelspec": {
   "display_name": "R",
   "language": "R",
   "name": "ir"
  },
  "language_info": {
   "codemirror_mode": "r",
   "file_extension": ".r",
   "mimetype": "text/x-r-source",
   "name": "R",
   "pygments_lexer": "r",
   "version": "3.3.1"
  }
 },
 "nbformat": 4,
 "nbformat_minor": 0
}
